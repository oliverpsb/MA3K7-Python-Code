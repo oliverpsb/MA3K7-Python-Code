{
 "cells": [
  {
   "cell_type": "code",
   "execution_count": 62,
   "id": "dac76b63",
   "metadata": {},
   "outputs": [],
   "source": [
    "import numpy as np\n",
    "\n",
    "#Function that generates the bracelet from a pair of numbers\n",
    "def bracelet(x,y):\n",
    "    A = [x,y]\n",
    "    A.append((x+y)%10)\n",
    "    while A[-2:] != A[:2]:\n",
    "        value = (A[-2]+A[-1])%10\n",
    "        A.append(value) \n",
    "    A = A[:-2]\n",
    "    return A\n",
    "\n",
    "#Funtion that checks if two bracelets are the same\n",
    "def is_same_bracelet(arr1,arr2):\n",
    "    result = any(np.array_equal(arr1,np.roll(arr2,i)) for i in range (len(arr2)))\n",
    "    if result:\n",
    "        print('Same Bracelet')\n",
    "    else:\n",
    "        print('Different Bracelet')\n",
    "    return result"
   ]
  }
 ],
 "metadata": {
  "kernelspec": {
   "display_name": "Python 3 (ipykernel)",
   "language": "python",
   "name": "python3"
  },
  "language_info": {
   "codemirror_mode": {
    "name": "ipython",
    "version": 3
   },
   "file_extension": ".py",
   "mimetype": "text/x-python",
   "name": "python",
   "nbconvert_exporter": "python",
   "pygments_lexer": "ipython3",
   "version": "3.11.5"
  }
 },
 "nbformat": 4,
 "nbformat_minor": 5
}
