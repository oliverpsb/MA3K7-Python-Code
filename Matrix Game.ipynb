{
 "cells": [
  {
   "cell_type": "code",
   "execution_count": 92,
   "id": "326c62f4",
   "metadata": {},
   "outputs": [
    {
     "name": "stdout",
     "output_type": "stream",
     "text": [
      "[[1. 0. 1. ... 1. 1. 0.]\n",
      " [0. 1. 0. ... 1. 1. 0.]\n",
      " [1. 0. 0. ... 0. 1. 0.]\n",
      " ...\n",
      " [0. 1. 1. ... 1. 1. 0.]\n",
      " [1. 0. 0. ... 1. 1. 0.]\n",
      " [0. 1. 1. ... 1. 1. 0.]]\n",
      "The determinant is:  0.0\n"
     ]
    }
   ],
   "source": [
    "import numpy as np\n",
    "import random\n",
    "\n",
    "def matmaker(n):\n",
    "    return np.zeros((n, n))\n",
    "\n",
    "def algorithm(array):\n",
    "    n = array.shape[0]\n",
    "    \n",
    "    remaining_coordinates = set((i, j) for i in range(n) for j in range(n))\n",
    "    for i in range(n):\n",
    "        for j in range(n):\n",
    "            if remaining_coordinates:\n",
    "                coord = random.choice(list(remaining_coordinates))\n",
    "                array[coord] = 1\n",
    "                \n",
    "                if coord[1] < n - 1:\n",
    "                    new_col = coord[1] + 1 if coord[1] % 2 == 0 else coord[1] - 1\n",
    "                    if 0 <= new_col < n:\n",
    "                        array[coord[0], new_col] = 0\n",
    "                        if (coord[0], new_col) in remaining_coordinates:\n",
    "                            remaining_coordinates.remove((coord[0], new_col))\n",
    "                elif coord[1] == n - 1:\n",
    "                    unused_coords = [(i, j) for (i, j) in remaining_coordinates if j == n - 1 and (i, j) != coord]\n",
    "                    if unused_coords:\n",
    "                        right_coord = random.choice(unused_coords)\n",
    "                        if 0 <= right_coord[0] < n:\n",
    "                            array[right_coord] = 0\n",
    "                            if right_coord in remaining_coordinates:\n",
    "                                remaining_coordinates.remove(right_coord)\n",
    "\n",
    "                if coord in remaining_coordinates:\n",
    "                    remaining_coordinates.remove(coord)\n",
    "            else:\n",
    "                return array\n",
    "            \n",
    "    return array\n",
    "    \n",
    "n = 50  # Change this to any integer greater than 4\n",
    "mat = matmaker(n)\n",
    "print(algorithm(mat))\n",
    "\n",
    "print(\"The determinant is: \",np.linalg.det(mat))"
   ]
  }
 ],
 "metadata": {
  "kernelspec": {
   "display_name": "Python 3 (ipykernel)",
   "language": "python",
   "name": "python3"
  },
  "language_info": {
   "codemirror_mode": {
    "name": "ipython",
    "version": 3
   },
   "file_extension": ".py",
   "mimetype": "text/x-python",
   "name": "python",
   "nbconvert_exporter": "python",
   "pygments_lexer": "ipython3",
   "version": "3.11.5"
  }
 },
 "nbformat": 4,
 "nbformat_minor": 5
}
